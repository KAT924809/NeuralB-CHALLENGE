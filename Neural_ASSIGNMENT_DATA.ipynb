{
 "cells": [
  {
   "cell_type": "code",
   "execution_count": 54,
   "id": "0d2baad4",
   "metadata": {},
   "outputs": [],
   "source": [
    "from faker import Faker \n",
    "import pandas as pd\n",
    "import numpy as np\n",
    "import random\n",
    "from datetime import datetime, timedelta\n",
    "import os"
   ]
  },
  {
   "cell_type": "code",
   "execution_count": 27,
   "id": "d593ccb8",
   "metadata": {},
   "outputs": [
    {
     "name": "stdout",
     "output_type": "stream",
     "text": [
      "^C\n"
     ]
    }
   ],
   "source": [
    "!pip install faker\n"
   ]
  },
  {
   "cell_type": "code",
   "execution_count": 55,
   "id": "2a091736",
   "metadata": {},
   "outputs": [],
   "source": [
    "from faker import Faker   ##worked \n",
    "import pandas as pd\n",
    "import numpy as np"
   ]
  },
  {
   "cell_type": "code",
   "execution_count": 56,
   "id": "42fb418c",
   "metadata": {},
   "outputs": [],
   "source": [
    "fake = Faker()"
   ]
  },
  {
   "cell_type": "code",
   "execution_count": 57,
   "id": "44ec8e0c",
   "metadata": {},
   "outputs": [],
   "source": [
    "NUM_HOSPITALS = 5 ##BASED ON CONDITION PROVIDED \n",
    "NUM_PATIENTS = 100_000  ##BASED ON CONDITION PROVIDED\n",
    "DIAGNOSES = ['Hypertension', 'Diabetes', 'Asthma', 'COPD', 'Arthritis', 'Anxiety', 'Depression', 'Migraine'] \n",
    "#BASED ON CONDITION PROVIDED\n",
    "MEDICINES = ['Paracetamol', 'Ibuprofen', 'Metformin', 'Amlodipine', 'Atorvastatin', 'Omeprazole', 'Amoxicillin', 'Salbutamol'] \n",
    "#BASED ON CONDITION PROVIDED."
   ]
  },
  {
   "cell_type": "code",
   "execution_count": 58,
   "id": "d920165a",
   "metadata": {},
   "outputs": [],
   "source": [
    "patients = []\n",
    "diagnoses = []\n",
    "treatments = []\n",
    "billings = []"
   ]
  },
  {
   "cell_type": "code",
   "execution_count": 59,
   "id": "a7db732a",
   "metadata": {},
   "outputs": [
    {
     "name": "stdout",
     "output_type": "stream",
     "text": [
      "2025-01-21\n"
     ]
    }
   ],
   "source": [
    "fake = Faker()\n",
    "random_date = fake.date_between(start_date='-1y', end_date='today')\n",
    "print(random_date) ##okay works better then previous "
   ]
  },
  {
   "cell_type": "code",
   "execution_count": 42,
   "id": "d6897dbb",
   "metadata": {},
   "outputs": [],
   "source": [
    "hospitals = [{'hospital_id': i+1, 'hospital_name': f\"{fake.company()} Hospital\"} for i in range(NUM_HOSPITALS)]"
   ]
  },
  {
   "cell_type": "code",
   "execution_count": 46,
   "id": "8fffd7ac",
   "metadata": {},
   "outputs": [],
   "source": [
    "#THE CODE BELOW IS USED FOR FINDING THE VALUES OUT.AND GENERATE THE FAKE DATA REQUIRED FOR THE CODE.\n",
    "##EACH OF THE COLUMNS FOLLOWS THE REQUIRED CONDITIONS THAT WERE MARKED INSIDE THE CHALLENGE PDF.\n",
    "##\n",
    "\n",
    "\n",
    "for pid in range(1, NUM_PATIENTS + 1): ##\n",
    "    hospital_id = random.randint(1, NUM_HOSPITALS) ##LOOPS THROUGH 5 DIFF HOSPITALS\n",
    "    patient_name = fake.name() ##NAME GENRATION\n",
    "    dob = fake.date_of_birth(minimum_age=1, maximum_age=90)\n",
    "    admission = fake.date_time_between(start_date='-2y', end_date='now')  ##GOES BACK TWO YEARS COMES TILL 2025\n",
    "    discharge = admission + timedelta(days=random.randint(1, 15)) \n",
    "\n",
    "    patients.append({                            \n",
    "        'patient_id': pid,\n",
    "        'hospital_id': hospital_id,\n",
    "        'patient_name': patient_name,\n",
    "        'dob': dob,\n",
    "        'admission_datetime': admission,\n",
    "        'discharge_datetime': discharge\n",
    "    })\n",
    "\n",
    "    for _ in range(2):\n",
    "        diagnoses.append({\n",
    "            'diagnosis_id': len(diagnoses) + 1,\n",
    "            'patient_id': pid,\n",
    "            'diagnosis_name': random.choice(DIAGNOSES)\n",
    "        })\n",
    "\n",
    "    for _ in range(5):\n",
    "        treatments.append({\n",
    "            'treatment_id': len(treatments) + 1,\n",
    "            'patient_id': pid,\n",
    "            'medicine_name': random.choice(MEDICINES),\n",
    "            'dose_time': random.choice(['Morning', 'Evening', 'Night']),\n",
    "            'duration': random.randint(1, 10)\n",
    "        })\n",
    "\n",
    "    billings.append({\n",
    "        'bill_id': pid,\n",
    "        'patient_id': pid,\n",
    "        'bill_amount': round(random.uniform(1000, 10000), 2),\n",
    "        'payment_mode': random.choice(['cash', 'credit'])\n",
    "    })"
   ]
  },
  {
   "cell_type": "code",
   "execution_count": 47,
   "id": "9d1ecc75",
   "metadata": {},
   "outputs": [],
   "source": [
    "df_hospitals = pd.DataFrame(hospitals)\n",
    "df_patients = pd.DataFrame(patients)\n",
    "df_diagnoses = pd.DataFrame(diagnoses)\n",
    "df_treatments = pd.DataFrame(treatments)\n",
    "df_billings = pd.DataFrame(billings)"
   ]
  },
  {
   "cell_type": "code",
   "execution_count": 52,
   "id": "1a73f304",
   "metadata": {},
   "outputs": [],
   "source": [
    "df_hospitals.to_csv(\"desktop/hospitals.csv\", index=False)\n",
    "df_patients.to_csv(\"desktop/patients.csv\", index=False)\n",
    "df_diagnoses.to_csv(\"desktop/diagnoses.csv\", index=False)\n",
    "df_treatments.to_csv(\"desktop/treatments.csv\", index=False)\n",
    "df_billings.to_csv(\"desktop/billings.csv\", index=False)\n",
    "\n",
    "##wasn't able to load the data in its desired path that is the desktop."
   ]
  },
  {
   "cell_type": "code",
   "execution_count": 62,
   "id": "10e617b5",
   "metadata": {},
   "outputs": [],
   "source": [
    "# Get Desktop path\n",
    "desktop_path = os.path.join(os.path.expanduser(\"~\"), \"Desktop\")\n",
    "\n",
    "# Save files to Desktop\n",
    "df_hospitals.to_csv(os.path.join(desktop_path, \"hospitals.csv\"), index=False)\n",
    "df_patients.to_csv(os.path.join(desktop_path, \"patients.csv\"), index=False)\n",
    "df_diagnoses.to_csv(os.path.join(desktop_path, \"diagnoses.csv\"), index=False)\n",
    "df_treatments.to_csv(os.path.join(desktop_path, \"treatments.csv\"), index=False)\n",
    "df_billings.to_csv(os.path.join(desktop_path, \"billings.csv\"), index=False)\n",
    "## the above code works but does not open properly. hence i tried the below alternative of the code."
   ]
  },
  {
   "cell_type": "code",
   "execution_count": 61,
   "id": "d3535fc2",
   "metadata": {},
   "outputs": [
    {
     "name": "stdout",
     "output_type": "stream",
     "text": [
      "Detected desktop path: C:\\Users\\kat92\\Desktop\n"
     ]
    }
   ],
   "source": [
    "import os\n",
    "import ctypes\n",
    "from pathlib import Path\n",
    "\n",
    "#found this on yt-- Use shell API to get Desktop PATH\n",
    "desktop_path = str(Path(os.path.join(os.environ[\"USERPROFILE\"], \"Desktop\")))\n",
    "print(\"Detected desktop path:\", desktop_path)"
   ]
  },
  {
   "cell_type": "code",
   "execution_count": 63,
   "id": "2625e54a",
   "metadata": {},
   "outputs": [],
   "source": [
    "df_hospitals.to_csv(os.path.join(desktop_path, \"hospitals.csv\"), index=False)\n",
    "df_patients.to_csv(os.path.join(desktop_path, \"patients.csv\"), index=False)\n",
    "df_diagnoses.to_csv(os.path.join(desktop_path, \"diagnoses.csv\"), index=False)\n",
    "df_treatments.to_csv(os.path.join(desktop_path, \"treatments.csv\"), index=False)\n",
    "df_billings.to_csv(os.path.join(desktop_path, \"billings.csv\"), index=False)   ##this code works better and a bit faster"
   ]
  },
  {
   "cell_type": "code",
   "execution_count": null,
   "id": "4e715d47",
   "metadata": {},
   "outputs": [],
   "source": [
    "##AFTER GENERATION OF EACH CODE THE FILE NAMES WERE CHANGED TO [FILENAME]_100K.CSV TO KEEP A BETTER \n",
    "##TRACK OF THESE FILES DURING CODE SUBMISSION\n",
    "##YES I COULD HAVE DONE IT IN CODE ITSELF, BUT I M A HUMAN AFTERALL REMEMBERED IT BIT LATE\n",
    "##ALSO I DIDNT WANT TO BREAK THE CODE PERCHANCE\n",
    "\n",
    "##---------------------------------------END OF CODE-FILE---------------------------------------------------##"
   ]
  }
 ],
 "metadata": {
  "kernelspec": {
   "display_name": "Python 3 (ipykernel)",
   "language": "python",
   "name": "python3"
  },
  "language_info": {
   "codemirror_mode": {
    "name": "ipython",
    "version": 3
   },
   "file_extension": ".py",
   "mimetype": "text/x-python",
   "name": "python",
   "nbconvert_exporter": "python",
   "pygments_lexer": "ipython3",
   "version": "3.10.9"
  }
 },
 "nbformat": 4,
 "nbformat_minor": 5
}
